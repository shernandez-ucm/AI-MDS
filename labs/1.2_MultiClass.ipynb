{
  "cells": [
    {
      "cell_type": "markdown",
      "metadata": {
        "id": "8aq9vbQN6j_j"
      },
      "source": [
        "# Redes Neuronales\n",
        "\n",
        "Ahora en el contexto del aprendizaje automatico, queremos eoncontrar derivadas parciales de una funcion objetivo con respecto a los parametros del modelo. En el caso de problemas de clasificacion binaria multi-variable contamos con datos de entrada $\\textbf X=(\\mathbf x_1,\\ldots,\\mathbf x_n)$ y sus correspondientes etiquetas $\\textbf y=(y_1,\\ldots,y_n)$.\n",
        "\n",
        "Para cada tupla $(x_i,y_i)$ podemos establecer la siguiente relacion lineal:\n",
        "\n",
        "\\begin{align}\n",
        "\\text{log}\\left(\\frac{p( C=1 \\vert \\mathbf x_i )}{p(C=0 \\vert \\mathbf x_i )} \\right)&=b+\\sum_{j=1}^{d} w_j\\,x_{ij}\\\\\n",
        "&=\\mathbf w^T \\mathbf x_i+b\n",
        "\\end{align}  \n",
        "\n",
        "Al mismo tiempo , podemos obtener las probabilidades condicionales para cada clase:\n",
        "\n",
        "\\begin{align}\n",
        "p(C=1\\vert \\textbf x_i)&= \\phi(\\mathbf w^T \\mathbf x_i+b)=\\frac{\\text{exp}(\\mathbf w^T \\mathbf x_i+b)}{1+\\text{exp}(\\mathbf w^T \\mathbf x_i+b)}\n",
        "\\end{align}\n",
        "\n",
        "Donde $\\phi(\\cdot)$ es la llamada función sigmoide.\n",
        "\n",
        "La funcion sigmoide convierte cualquier entrada $\\mathbf w^T \\mathbf x_i \\in [-\\inf,\\inf]$ hacia el intervalo $(0,1)$, por lo tanto podemos utilizar la funcion de verosimilitud de la distribucion de Bernoulli para comparar las probabilidad de clase con las etiquetas binarias:\n",
        "\n",
        "\\begin{align}\n",
        "p(\\textbf y, \\textbf X,\\mathbf w)= \\prod_{i=1}^N (\\phi(\\mathbf w^T \\mathbf x_i+b))^{y_i} \\times (1-\\phi(\\mathbf w^T \\mathbf x_i+b))^{1-y_i}\n",
        "\\end{align}\n",
        "\n",
        "Ahora queremos obtener los parametros $\\hat{\\mathbf w}$ que maximicen la verosimilitud $p(\\textbf y, \\textbf X,\\mathbf w)$. Dado que la funcion logaritmo es monotona en todo el dominio $[-\\inf,\\inf]$ utilizamos $\\operatorname{log} p(\\textbf y, \\textbf X,\\mathbf w)$ como funcion objetivo (log-loss):\n",
        "\n",
        "\\begin{align}\n",
        "L(\\mathbf w)=\\sum_{i=1}^N (y_i \\operatorname{log} \\phi(\\mathbf w^T \\mathbf x_i+b)) + ({1-y_i}) \\operatorname{log} (1-\\phi(\\mathbf w^T \\mathbf x_i+b))\n",
        "\\end{align}\n",
        "\n",
        "Ahora que tenemos definida una funcion objetivo, podemos evaluar iterativamente los pesos $w$ escogiendo la direccion de maximo crecimiento (gradiente).\n",
        "\n",
        "\\begin{align}\n",
        "\\mathbf w^{j+1}= \\mathbf  w^j-\\eta \\frac{\\partial L(\\mathbf w)}{\\partial \\mathbf w}\\\\\n",
        "b^{j+1}=   b^j-\\eta \\frac{\\partial L(b)}{\\partial  b}\n",
        "\\end{align}\n",
        "\n",
        "Donde $\\eta > 0$ es un factor de descuento o tasa de aprendizaje."
      ]
    },
    {
      "cell_type": "code",
      "execution_count": 2,
      "metadata": {
        "id": "vNLWnmyb6j_k"
      },
      "outputs": [],
      "source": [
        "import numpy as np\n",
        "import matplotlib.pyplot as plt\n",
        "\n",
        "def sigmoid(x):\n",
        "    return 1 / (1 + np.exp(-x))\n",
        "\n",
        "def net(params,X):\n",
        "    logits =  np.dot(X,params['weight'])+params['bias']\n",
        "    return sigmoid(logits)\n",
        "\n",
        "def binary_cross_entropy(params,X,y):\n",
        "    # Training loss is the negative log-likelihood of the training labels.\n",
        "    y_hat = net(params, X)\n",
        "    label_probabilities = np.log(y_hat) * y + np.log((1 - y_hat)) * (1 - y)\n",
        "    return -1.0*np.mean(label_probabilities)\n",
        "\n",
        "# Build a function that returns gradients of training loss using autograd.\n",
        "def grad(params, X, y):\n",
        "    y_hat = net(params, X)\n",
        "    error = y_hat - y.reshape(-1, 1)\n",
        "    grad_w = np.dot(X.T, error) / X.shape[0]\n",
        "    grad_b = np.mean(error, axis=0)\n",
        "    return {'weight': grad_w, 'bias': grad_b}"
      ]
    },
    {
      "cell_type": "markdown",
      "metadata": {
        "id": "URc5UTX_YZZR"
      },
      "source": [
        "\\begin{align*}\n",
        "\\frac{\\partial }{\\partial \\mathbf w} L(\\mathbf w) &= -\\frac{1}{N}\\sum\\limits_{i=1}^{N}{y_i \\frac{\\partial }{\\partial \\theta_j} log \\phi(\\mathbf w^T \\mathbf x_i)   + (1-y_i)\\frac{\\partial }{\\partial \\mathbf w} \\log{(1 - \\phi(\\mathbf w^T \\mathbf x_i))}} \\\\\n",
        "&=-\\frac{1}{N}\\sum\\limits_{i=1}^{N}{y_i\\,x_i \\left(1-\\phi(\\mathbf w^T \\mathbf x_i)\\right) - (1-y_i)x_i\\phi(\\mathbf w^T \\mathbf x_i)} \\\\\n",
        "&=-\\frac{1}{N}\\sum\\limits_{i=1}^{N}{y_i x_i - x_i\\phi(\\mathbf w^T \\mathbf x_i)} \\\\\n",
        "&=\\frac{1}{N}\\sum\\limits_{i=1}^{N}{(\\phi(\\mathbf w^T \\mathbf x_i+b)-y_i)x_i}\n",
        "\\end{align*}"
      ]
    },
    {
      "cell_type": "code",
      "execution_count": 3,
      "metadata": {
        "colab": {
          "base_uri": "https://localhost:8080/",
          "height": 283
        },
        "id": "ApFnev7bRvZJ",
        "outputId": "b0d8578f-9a63-4244-d006-b56154bfafa2"
      },
      "outputs": [
        {
          "data": {
            "image/png": "[encoded data removed]",
            "text/plain": [
              "<Figure size 640x480 with 1 Axes>"
            ]
          },
          "metadata": {},
          "output_type": "display_data"
        }
      ],
      "source": [
        "x=np.linspace(-3,3,num=100)\n",
        "plt.plot(x,sigmoid(x))\n",
        "plt.xlabel(\"Logits\")\n",
        "plt.ylabel(\"Class Probability\")\n",
        "plt.grid()"
      ]
    },
    {
      "cell_type": "code",
      "execution_count": 4,
      "metadata": {
        "id": "tx0hEejiTXpx"
      },
      "outputs": [],
      "source": [
        "# Build a toy dataset.\n",
        "X = np.array([[0.52, 1.12,  0.77],\n",
        "                   [0.88, -1.08, 0.15],\n",
        "                   [0.52, 0.06, -1.30],\n",
        "                   [0.74, -2.49, 1.39]])\n",
        "y = np.array([False, True, False, True])\n",
        "y = y.astype(np.int32)"
      ]
    },
    {
      "cell_type": "code",
      "execution_count": 5,
      "metadata": {},
      "outputs": [
        {
          "data": {
            "text/plain": [
              "<matplotlib.colorbar.Colorbar at 0x109cd1a90>"
            ]
          },
          "execution_count": 5,
          "metadata": {},
          "output_type": "execute_result"
        },
        {
          "data": {
            "image/png": "[encoded data removed]",
            "text/plain": [
              "<Figure size 640x480 with 2 Axes>"
            ]
          },
          "metadata": {},
          "output_type": "display_data"
        }
      ],
      "source": [
        "plt.scatter(X[:,0],X[:,1],c=y)\n",
        "plt.xlabel(\"Feature 1\")\n",
        "plt.ylabel(\"Feature 2\")\n",
        "plt.grid()\n",
        "plt.colorbar(label=\"Label\") "
      ]
    },
    {
      "cell_type": "code",
      "execution_count": 6,
      "metadata": {
        "id": "gyImnwEyYZZT"
      },
      "outputs": [],
      "source": [
        "def random_layer_params(input_dim=1, scale=1.0):\n",
        "  W = scale * np.random.randn(input_dim, 1)  # normal distribution, mean 0\n",
        "  b = scale * np.random.randn(1)\n",
        "  return W,b\n",
        "\n",
        "def init_model_params(n_in):\n",
        "  params=dict()\n",
        "  params['weight'],params['bias']=random_layer_params(input_dim=n_in)\n",
        "  return params\n",
        "\n",
        "np.random.seed(0)\n",
        "params=init_model_params(n_in=X.shape[-1])"
      ]
    },
    {
      "cell_type": "code",
      "execution_count": 7,
      "metadata": {
        "id": "xeU5aX3_TY_q"
      },
      "outputs": [],
      "source": [
        "def train_net(params, X, y, learning_rate=0.1,epochs=100):\n",
        "    loss=[]\n",
        "    for epoch in range(epochs):\n",
        "        grads = grad(params, X, y)\n",
        "        for var in params.keys():\n",
        "            params[var] -= learning_rate * grads[var]\n",
        "        loss.append(binary_cross_entropy(params, X, y))\n",
        "        if epoch % (epochs//10) == 0:\n",
        "            print(f\"Epoch {epoch}, loss: {binary_cross_entropy(params, X, y):.3f}\")\n",
        "    return params,loss"
      ]
    },
    {
      "cell_type": "code",
      "execution_count": 8,
      "metadata": {
        "id": "7Bx3xYuwYZZU",
        "outputId": "0a17ea8d-2ca9-4c54-b33d-f929e47ac87c"
      },
      "outputs": [
        {
          "name": "stdout",
          "output_type": "stream",
          "text": [
            "Epoch 0, loss: 1.759\n",
            "Epoch 150, loss: 1.539\n",
            "Epoch 300, loss: 1.402\n",
            "Epoch 450, loss: 1.348\n",
            "Epoch 600, loss: 1.361\n",
            "Epoch 750, loss: 1.410\n",
            "Epoch 900, loss: 1.471\n",
            "Epoch 1050, loss: 1.534\n",
            "Epoch 1200, loss: 1.595\n",
            "Epoch 1350, loss: 1.654\n"
          ]
        }
      ],
      "source": [
        "params,loss=train_net(params,X,y,learning_rate=1e-2,epochs=1500)"
      ]
    },
    {
      "cell_type": "code",
      "execution_count": 9,
      "metadata": {
        "colab": {
          "base_uri": "https://localhost:8080/",
          "height": 371
        },
        "id": "P4LDiP9c6j_n",
        "outputId": "f50350a5-bd2d-4553-aded-89e6d3fc73a1"
      },
      "outputs": [
        {
          "data": {
            "text/plain": [
              "Text(0, 0.5, 'x2')"
            ]
          },
          "execution_count": 9,
          "metadata": {},
          "output_type": "execute_result"
        },
        {
          "data": {
            "image/png": "[encoded data removed]",
            "text/plain": [
              "<Figure size 640x480 with 2 Axes>"
            ]
          },
          "metadata": {},
          "output_type": "display_data"
        }
      ],
      "source": [
        "import matplotlib.pyplot as plt\n",
        "\n",
        "\n",
        "plt.scatter(X[:,0],X[:,1],c=y)\n",
        "plt.xlabel(\"Feature 1\")\n",
        "plt.ylabel(\"Feature 2\")\n",
        "plt.grid()\n",
        "plt.colorbar(label=\"Label\") \n",
        "xmin, xmax = plt.xlim()\n",
        "ymin, ymax = plt.ylim()\n",
        "\n",
        "def line(x0):\n",
        "   return (-(x0 * params['weight'][0]) ) / params['weight'][1]\n",
        "\n",
        "plt.plot([xmin, xmax], [line(xmin), line(xmax)],ls=\"--\")\n",
        "plt.xlabel('x1')\n",
        "plt.ylabel('x2')\n"
      ]
    },
    {
      "cell_type": "code",
      "execution_count": 10,
      "metadata": {},
      "outputs": [
        {
          "name": "stdout",
          "output_type": "stream",
          "text": [
            "True: 0, Predicted: False\n",
            "True: 1, Predicted: True\n",
            "True: 0, Predicted: False\n",
            "True: 1, Predicted: True\n"
          ]
        }
      ],
      "source": [
        "for true,pred in zip(y, net(params,X).flatten()>0.5):\n",
        "    print(f\"True: {true}, Predicted: {pred}\")"
      ]
    },
    {
      "cell_type": "markdown",
      "metadata": {
        "id": "bpJ263Aq6j_q"
      },
      "source": [
        "# Datos Desbalanceados\n",
        "\n",
        "La función de pérdida Focal (Focal Loss) toma la siguiente forma:\n",
        "\\begin{align*}\n",
        "\\mathcal{L}_{FL} = -\\alpha_t (1-p_t)^\\gamma \\log(p_t) \n",
        "\\end{align*}"
      ]
    },
    {
      "cell_type": "code",
      "execution_count": null,
      "metadata": {},
      "outputs": [],
      "source": [
        "def focal_loss(params,X,y, alpha=0.25, gamma=2.0):\n",
        "    y_true = y.reshape(-1, 1)\n",
        "    y_pred = net(params, X)\n",
        "    epsilon = 1e-12\n",
        "    y_pred = np.clip(y_pred, epsilon, 1. - epsilon)\n",
        "    # Calcular p_t\n",
        "    p_t = y_pred * y_true + (1 - y_pred) * (1 - y_true)\n",
        "    # Calcular alpha_t\n",
        "    alpha_t = alpha * y_true + (1 - alpha) * (1 - y_true)\n",
        "    # Factor de modulación\n",
        "    modulating_factor = (1.0 - p_t) ** gamma\n",
        "    # Pérdida focal\n",
        "    loss = - alpha_t * modulating_factor * np.log(p_t)\n",
        "    return np.mean(loss)"
      ]
    },
    {
      "cell_type": "code",
      "execution_count": 253,
      "metadata": {},
      "outputs": [],
      "source": [
        "def grad_focal(params, X, y, alpha=0.25, gamma=2.0):\n",
        "    y_true = y.reshape(-1, 1)\n",
        "    y_pred = net(params, X)\n",
        "    epsilon = 1e-12\n",
        "    y_pred = np.clip(y_pred, epsilon, 1. - epsilon)\n",
        "    p_t = y_pred * y_true + (1 - y_pred) * (1 - y_true)\n",
        "    alpha_t = alpha * y_true + (1 - alpha) * (1 - y_true)\n",
        "    modulating_factor = (1.0 - p_t) ** gamma\n",
        "\n",
        "    # Derivative of focal loss w.r.t. logits\n",
        "    d_loss_d_logits = (\n",
        "        alpha_t * modulating_factor * gamma * (-1) * np.log(p_t) / (1.0 - p_t + epsilon) * (y_pred - y_true)\n",
        "        - alpha_t * modulating_factor / (p_t + epsilon) * (y_true - y_pred)\n",
        "    )\n",
        "    # Chain rule: d_sigmoid/d_logits = y_pred * (1 - y_pred)\n",
        "    d_loss_d_logits *= y_pred * (1 - y_pred)\n",
        "\n",
        "    grad_w = np.dot(X.T, d_loss_d_logits) / X.shape[0]\n",
        "    grad_b = np.mean(d_loss_d_logits, axis=0)\n",
        "    return {'weight': grad_w, 'bias': grad_b}\n"
      ]
    },
    {
      "cell_type": "markdown",
      "metadata": {
        "id": "zN1ZKgUUYZZV"
      },
      "source": [
        "### Preparación de Datos\n",
        "\n",
        "El conjunto de datos contiene transacciones realizadas con tarjetas de crédito en septiembre de 2013 por titulares europeos. Este conjunto de datos presenta transacciones ocurridas en dos días, con $492$ fraudes de un total de $284.807$ transacciones. El conjunto de datos presenta un alto desequilibrio; la clase positiva (fraudes) representa el $0,172 %$ del total de transacciones.\n",
        "\n",
        "Contiene únicamente variables numéricas de entrada, resultado de una transformación PCA. Lamentablemente, por motivos de confidencialidad, no podemos proporcionar las características originales ni más información sobre los datos. Las características V1, V2, … V28 son los componentes principales obtenidos con PCA; las únicas características que no se han transformado con PCA son «Tiempo» e «Importe». La característica «Tiempo» contiene los segundos transcurridos entre cada transacción y la primera transacción del conjunto de datos. La característica «Importe» es el importe de la transacción; esta característica puede utilizarse para el aprendizaje sensible al coste basado en ejemplos. La característica «Clase» es la variable de respuesta y toma el valor 1 en caso de fraude y 0 en caso contrario. Dada la tasa de desequilibrio de clases, recomendamos medir la precisión mediante el Área Bajo la Curva de Precisión-Recuperación (AUPRC). La precisión de la matriz de confusión no es significativa para la clasificación desequilibrada."
      ]
    },
    {
      "cell_type": "code",
      "execution_count": 274,
      "metadata": {
        "id": "bY-WovXkYZZW"
      },
      "outputs": [],
      "source": [
        "import pandas as pd\n",
        "\n",
        "raw_df = pd.read_csv('https://storage.googleapis.com/download.tensorflow.org/data/creditcard.csv')\n"
      ]
    },
    {
      "cell_type": "code",
      "execution_count": 276,
      "metadata": {},
      "outputs": [
        {
          "data": {
            "text/html": [
              "<div>\n",
              "<style scoped>\n",
              "    .dataframe tbody tr th:only-of-type {\n",
              "        vertical-align: middle;\n",
              "    }\n",
              "\n",
              "    .dataframe tbody tr th {\n",
              "        vertical-align: top;\n",
              "    }\n",
              "\n",
              "    .dataframe thead th {\n",
              "        text-align: right;\n",
              "    }\n",
              "</style>\n",
              "<table border=\"1\" class=\"dataframe\">\n",
              "  <thead>\n",
              "    <tr style=\"text-align: right;\">\n",
              "      <th></th>\n",
              "      <th>Time</th>\n",
              "      <th>V1</th>\n",
              "      <th>V2</th>\n",
              "      <th>V3</th>\n",
              "      <th>V4</th>\n",
              "      <th>V5</th>\n",
              "      <th>V6</th>\n",
              "      <th>V7</th>\n",
              "      <th>V8</th>\n",
              "      <th>V9</th>\n",
              "      <th>...</th>\n",
              "      <th>V21</th>\n",
              "      <th>V22</th>\n",
              "      <th>V23</th>\n",
              "      <th>V24</th>\n",
              "      <th>V25</th>\n",
              "      <th>V26</th>\n",
              "      <th>V27</th>\n",
              "      <th>V28</th>\n",
              "      <th>Amount</th>\n",
              "      <th>Class</th>\n",
              "    </tr>\n",
              "  </thead>\n",
              "  <tbody>\n",
              "    <tr>\n",
              "      <th>count</th>\n",
              "      <td>284807.000000</td>\n",
              "      <td>2.848070e+05</td>\n",
              "      <td>2.848070e+05</td>\n",
              "      <td>2.848070e+05</td>\n",
              "      <td>2.848070e+05</td>\n",
              "      <td>2.848070e+05</td>\n",
              "      <td>2.848070e+05</td>\n",
              "      <td>2.848070e+05</td>\n",
              "      <td>2.848070e+05</td>\n",
              "      <td>2.848070e+05</td>\n",
              "      <td>...</td>\n",
              "      <td>2.848070e+05</td>\n",
              "      <td>2.848070e+05</td>\n",
              "      <td>2.848070e+05</td>\n",
              "      <td>2.848070e+05</td>\n",
              "      <td>2.848070e+05</td>\n",
              "      <td>2.848070e+05</td>\n",
              "      <td>2.848070e+05</td>\n",
              "      <td>2.848070e+05</td>\n",
              "      <td>284807.000000</td>\n",
              "      <td>284807.000000</td>\n",
              "    </tr>\n",
              "    <tr>\n",
              "      <th>mean</th>\n",
              "      <td>94813.859575</td>\n",
              "      <td>1.168375e-15</td>\n",
              "      <td>3.416908e-16</td>\n",
              "      <td>-1.379537e-15</td>\n",
              "      <td>2.074095e-15</td>\n",
              "      <td>9.604066e-16</td>\n",
              "      <td>1.487313e-15</td>\n",
              "      <td>-5.556467e-16</td>\n",
              "      <td>1.213481e-16</td>\n",
              "      <td>-2.406331e-15</td>\n",
              "      <td>...</td>\n",
              "      <td>1.654067e-16</td>\n",
              "      <td>-3.568593e-16</td>\n",
              "      <td>2.578648e-16</td>\n",
              "      <td>4.473266e-15</td>\n",
              "      <td>5.340915e-16</td>\n",
              "      <td>1.683437e-15</td>\n",
              "      <td>-3.660091e-16</td>\n",
              "      <td>-1.227390e-16</td>\n",
              "      <td>88.349619</td>\n",
              "      <td>0.001727</td>\n",
              "    </tr>\n",
              "    <tr>\n",
              "      <th>std</th>\n",
              "      <td>47488.145955</td>\n",
              "      <td>1.958696e+00</td>\n",
              "      <td>1.651309e+00</td>\n",
              "      <td>1.516255e+00</td>\n",
              "      <td>1.415869e+00</td>\n",
              "      <td>1.380247e+00</td>\n",
              "      <td>1.332271e+00</td>\n",
              "      <td>1.237094e+00</td>\n",
              "      <td>1.194353e+00</td>\n",
              "      <td>1.098632e+00</td>\n",
              "      <td>...</td>\n",
              "      <td>7.345240e-01</td>\n",
              "      <td>7.257016e-01</td>\n",
              "      <td>6.244603e-01</td>\n",
              "      <td>6.056471e-01</td>\n",
              "      <td>5.212781e-01</td>\n",
              "      <td>4.822270e-01</td>\n",
              "      <td>4.036325e-01</td>\n",
              "      <td>3.300833e-01</td>\n",
              "      <td>250.120109</td>\n",
              "      <td>0.041527</td>\n",
              "    </tr>\n",
              "    <tr>\n",
              "      <th>min</th>\n",
              "      <td>0.000000</td>\n",
              "      <td>-5.640751e+01</td>\n",
              "      <td>-7.271573e+01</td>\n",
              "      <td>-4.832559e+01</td>\n",
              "      <td>-5.683171e+00</td>\n",
              "      <td>-1.137433e+02</td>\n",
              "      <td>-2.616051e+01</td>\n",
              "      <td>-4.355724e+01</td>\n",
              "      <td>-7.321672e+01</td>\n",
              "      <td>-1.343407e+01</td>\n",
              "      <td>...</td>\n",
              "      <td>-3.483038e+01</td>\n",
              "      <td>-1.093314e+01</td>\n",
              "      <td>-4.480774e+01</td>\n",
              "      <td>-2.836627e+00</td>\n",
              "      <td>-1.029540e+01</td>\n",
              "      <td>-2.604551e+00</td>\n",
              "      <td>-2.256568e+01</td>\n",
              "      <td>-1.543008e+01</td>\n",
              "      <td>0.000000</td>\n",
              "      <td>0.000000</td>\n",
              "    </tr>\n",
              "    <tr>\n",
              "      <th>25%</th>\n",
              "      <td>54201.500000</td>\n",
              "      <td>-9.203734e-01</td>\n",
              "      <td>-5.985499e-01</td>\n",
              "      <td>-8.903648e-01</td>\n",
              "      <td>-8.486401e-01</td>\n",
              "      <td>-6.915971e-01</td>\n",
              "      <td>-7.682956e-01</td>\n",
              "      <td>-5.540759e-01</td>\n",
              "      <td>-2.086297e-01</td>\n",
              "      <td>-6.430976e-01</td>\n",
              "      <td>...</td>\n",
              "      <td>-2.283949e-01</td>\n",
              "      <td>-5.423504e-01</td>\n",
              "      <td>-1.618463e-01</td>\n",
              "      <td>-3.545861e-01</td>\n",
              "      <td>-3.171451e-01</td>\n",
              "      <td>-3.269839e-01</td>\n",
              "      <td>-7.083953e-02</td>\n",
              "      <td>-5.295979e-02</td>\n",
              "      <td>5.600000</td>\n",
              "      <td>0.000000</td>\n",
              "    </tr>\n",
              "    <tr>\n",
              "      <th>50%</th>\n",
              "      <td>84692.000000</td>\n",
              "      <td>1.810880e-02</td>\n",
              "      <td>6.548556e-02</td>\n",
              "      <td>1.798463e-01</td>\n",
              "      <td>-1.984653e-02</td>\n",
              "      <td>-5.433583e-02</td>\n",
              "      <td>-2.741871e-01</td>\n",
              "      <td>4.010308e-02</td>\n",
              "      <td>2.235804e-02</td>\n",
              "      <td>-5.142873e-02</td>\n",
              "      <td>...</td>\n",
              "      <td>-2.945017e-02</td>\n",
              "      <td>6.781943e-03</td>\n",
              "      <td>-1.119293e-02</td>\n",
              "      <td>4.097606e-02</td>\n",
              "      <td>1.659350e-02</td>\n",
              "      <td>-5.213911e-02</td>\n",
              "      <td>1.342146e-03</td>\n",
              "      <td>1.124383e-02</td>\n",
              "      <td>22.000000</td>\n",
              "      <td>0.000000</td>\n",
              "    </tr>\n",
              "    <tr>\n",
              "      <th>75%</th>\n",
              "      <td>139320.500000</td>\n",
              "      <td>1.315642e+00</td>\n",
              "      <td>8.037239e-01</td>\n",
              "      <td>1.027196e+00</td>\n",
              "      <td>7.433413e-01</td>\n",
              "      <td>6.119264e-01</td>\n",
              "      <td>3.985649e-01</td>\n",
              "      <td>5.704361e-01</td>\n",
              "      <td>3.273459e-01</td>\n",
              "      <td>5.971390e-01</td>\n",
              "      <td>...</td>\n",
              "      <td>1.863772e-01</td>\n",
              "      <td>5.285536e-01</td>\n",
              "      <td>1.476421e-01</td>\n",
              "      <td>4.395266e-01</td>\n",
              "      <td>3.507156e-01</td>\n",
              "      <td>2.409522e-01</td>\n",
              "      <td>9.104512e-02</td>\n",
              "      <td>7.827995e-02</td>\n",
              "      <td>77.165000</td>\n",
              "      <td>0.000000</td>\n",
              "    </tr>\n",
              "    <tr>\n",
              "      <th>max</th>\n",
              "      <td>172792.000000</td>\n",
              "      <td>2.454930e+00</td>\n",
              "      <td>2.205773e+01</td>\n",
              "      <td>9.382558e+00</td>\n",
              "      <td>1.687534e+01</td>\n",
              "      <td>3.480167e+01</td>\n",
              "      <td>7.330163e+01</td>\n",
              "      <td>1.205895e+02</td>\n",
              "      <td>2.000721e+01</td>\n",
              "      <td>1.559499e+01</td>\n",
              "      <td>...</td>\n",
              "      <td>2.720284e+01</td>\n",
              "      <td>1.050309e+01</td>\n",
              "      <td>2.252841e+01</td>\n",
              "      <td>4.584549e+00</td>\n",
              "      <td>7.519589e+00</td>\n",
              "      <td>3.517346e+00</td>\n",
              "      <td>3.161220e+01</td>\n",
              "      <td>3.384781e+01</td>\n",
              "      <td>25691.160000</td>\n",
              "      <td>1.000000</td>\n",
              "    </tr>\n",
              "  </tbody>\n",
              "</table>\n",
              "<p>8 rows × 31 columns</p>\n",
              "</div>"
            ],
            "text/plain": [
              "                Time            V1            V2            V3            V4  \\\n",
              "count  284807.000000  2.848070e+05  2.848070e+05  2.848070e+05  2.848070e+05   \n",
              "mean    94813.859575  1.168375e-15  3.416908e-16 -1.379537e-15  2.074095e-15   \n",
              "std     47488.145955  1.958696e+00  1.651309e+00  1.516255e+00  1.415869e+00   \n",
              "min         0.000000 -5.640751e+01 -7.271573e+01 -4.832559e+01 -5.683171e+00   \n",
              "25%     54201.500000 -9.203734e-01 -5.985499e-01 -8.903648e-01 -8.486401e-01   \n",
              "50%     84692.000000  1.810880e-02  6.548556e-02  1.798463e-01 -1.984653e-02   \n",
              "75%    139320.500000  1.315642e+00  8.037239e-01  1.027196e+00  7.433413e-01   \n",
              "max    172792.000000  2.454930e+00  2.205773e+01  9.382558e+00  1.687534e+01   \n",
              "\n",
              "                 V5            V6            V7            V8            V9  \\\n",
              "count  2.848070e+05  2.848070e+05  2.848070e+05  2.848070e+05  2.848070e+05   \n",
              "mean   9.604066e-16  1.487313e-15 -5.556467e-16  1.213481e-16 -2.406331e-15   \n",
              "std    1.380247e+00  1.332271e+00  1.237094e+00  1.194353e+00  1.098632e+00   \n",
              "min   -1.137433e+02 -2.616051e+01 -4.355724e+01 -7.321672e+01 -1.343407e+01   \n",
              "25%   -6.915971e-01 -7.682956e-01 -5.540759e-01 -2.086297e-01 -6.430976e-01   \n",
              "50%   -5.433583e-02 -2.741871e-01  4.010308e-02  2.235804e-02 -5.142873e-02   \n",
              "75%    6.119264e-01  3.985649e-01  5.704361e-01  3.273459e-01  5.971390e-01   \n",
              "max    3.480167e+01  7.330163e+01  1.205895e+02  2.000721e+01  1.559499e+01   \n",
              "\n",
              "       ...           V21           V22           V23           V24  \\\n",
              "count  ...  2.848070e+05  2.848070e+05  2.848070e+05  2.848070e+05   \n",
              "mean   ...  1.654067e-16 -3.568593e-16  2.578648e-16  4.473266e-15   \n",
              "std    ...  7.345240e-01  7.257016e-01  6.244603e-01  6.056471e-01   \n",
              "min    ... -3.483038e+01 -1.093314e+01 -4.480774e+01 -2.836627e+00   \n",
              "25%    ... -2.283949e-01 -5.423504e-01 -1.618463e-01 -3.545861e-01   \n",
              "50%    ... -2.945017e-02  6.781943e-03 -1.119293e-02  4.097606e-02   \n",
              "75%    ...  1.863772e-01  5.285536e-01  1.476421e-01  4.395266e-01   \n",
              "max    ...  2.720284e+01  1.050309e+01  2.252841e+01  4.584549e+00   \n",
              "\n",
              "                V25           V26           V27           V28         Amount  \\\n",
              "count  2.848070e+05  2.848070e+05  2.848070e+05  2.848070e+05  284807.000000   \n",
              "mean   5.340915e-16  1.683437e-15 -3.660091e-16 -1.227390e-16      88.349619   \n",
              "std    5.212781e-01  4.822270e-01  4.036325e-01  3.300833e-01     250.120109   \n",
              "min   -1.029540e+01 -2.604551e+00 -2.256568e+01 -1.543008e+01       0.000000   \n",
              "25%   -3.171451e-01 -3.269839e-01 -7.083953e-02 -5.295979e-02       5.600000   \n",
              "50%    1.659350e-02 -5.213911e-02  1.342146e-03  1.124383e-02      22.000000   \n",
              "75%    3.507156e-01  2.409522e-01  9.104512e-02  7.827995e-02      77.165000   \n",
              "max    7.519589e+00  3.517346e+00  3.161220e+01  3.384781e+01   25691.160000   \n",
              "\n",
              "               Class  \n",
              "count  284807.000000  \n",
              "mean        0.001727  \n",
              "std         0.041527  \n",
              "min         0.000000  \n",
              "25%         0.000000  \n",
              "50%         0.000000  \n",
              "75%         0.000000  \n",
              "max         1.000000  \n",
              "\n",
              "[8 rows x 31 columns]"
            ]
          },
          "execution_count": 276,
          "metadata": {},
          "output_type": "execute_result"
        }
      ],
      "source": [
        "raw_df.describe()"
      ]
    },
    {
      "cell_type": "code",
      "execution_count": 277,
      "metadata": {
        "colab": {
          "base_uri": "https://localhost:8080/",
          "height": 338
        },
        "id": "OREACa70YZZW",
        "outputId": "d846bc66-fa35-4d3f-f8cc-50b53cf0299f"
      },
      "outputs": [
        {
          "name": "stdout",
          "output_type": "stream",
          "text": [
            "Examples:\n",
            "    Total: 284807\n",
            "    Positive: 492 (0.17% of total)\n",
            "\n"
          ]
        }
      ],
      "source": [
        "neg, pos = np.bincount(raw_df['Class'])\n",
        "total = neg + pos\n",
        "print('Examples:\\n    Total: {}\\n    Positive: {} ({:.2f}% of total)\\n'.format(\n",
        "    total, pos, 100 * pos / total))\n"
      ]
    },
    {
      "cell_type": "code",
      "execution_count": 278,
      "metadata": {
        "id": "F6Ce1LN1YZZW"
      },
      "outputs": [],
      "source": [
        "cleaned_df = raw_df.copy()\n",
        "\n",
        "# You don't want the `Time` column.\n",
        "cleaned_df.pop('Time')\n",
        "\n",
        "# The `Amount` column covers a huge range. Convert to log-space.\n",
        "eps = 0.001 # 0 => 0.1¢\n",
        "cleaned_df['Log Ammount'] = np.log(cleaned_df.pop('Amount')+eps)\n"
      ]
    },
    {
      "cell_type": "code",
      "execution_count": 283,
      "metadata": {},
      "outputs": [],
      "source": [
        "from sklearn.model_selection import train_test_split\n",
        "\n",
        "# Use a utility from sklearn to split and shuffle your dataset.\n",
        "train_df, test_df = train_test_split(cleaned_df, test_size=0.2)\n",
        "train_df, val_df = train_test_split(train_df, test_size=0.2)\n",
        "\n",
        "# Form np arrays of labels and features.\n",
        "train_labels = np.array(train_df.pop('Class')).astype(np.int32)\n",
        "val_labels = np.array(val_df.pop('Class')).astype(np.int32)\n",
        "test_labels = np.array(test_df.pop('Class')).astype(np.int32)\n",
        "\n",
        "train_features = np.array(train_df)\n",
        "val_features = np.array(val_df)\n",
        "test_features = np.array(test_df)\n"
      ]
    },
    {
      "cell_type": "code",
      "execution_count": 297,
      "metadata": {},
      "outputs": [
        {
          "name": "stdout",
          "output_type": "stream",
          "text": [
            "Training labels shape: (182276,)\n",
            "Validation labels shape: (45569,)\n",
            "Test labels shape: (56962,)\n",
            "Training features shape: (182276, 29)\n",
            "Validation features shape: (45569, 29)\n",
            "Test features shape: (56962, 29)\n"
          ]
        }
      ],
      "source": [
        "from sklearn.preprocessing import StandardScaler\n",
        "\n",
        "\n",
        "scaler = StandardScaler()\n",
        "train_features = scaler.fit_transform(train_features)\n",
        "\n",
        "val_features = scaler.transform(val_features)\n",
        "test_features = scaler.transform(test_features)\n",
        "\n",
        "train_features = np.clip(train_features, -5, 5)\n",
        "val_features = np.clip(val_features, -5, 5)\n",
        "test_features = np.clip(test_features, -5, 5)\n",
        "\n",
        "\n",
        "print('Training labels shape:', train_labels.shape)\n",
        "print('Validation labels shape:', val_labels.shape)\n",
        "print('Test labels shape:', test_labels.shape)\n",
        "\n",
        "print('Training features shape:', train_features.shape)\n",
        "print('Validation features shape:', val_features.shape)\n",
        "print('Test features shape:', test_features.shape)\n"
      ]
    },
    {
      "cell_type": "code",
      "execution_count": 298,
      "metadata": {},
      "outputs": [
        {
          "data": {
            "text/plain": [
              "((182276,), (182276, 29))"
            ]
          },
          "execution_count": 298,
          "metadata": {},
          "output_type": "execute_result"
        }
      ],
      "source": [
        "train_labels.shape, train_features.shape"
      ]
    },
    {
      "cell_type": "code",
      "execution_count": 302,
      "metadata": {
        "vscode": {
          "languageId": "markdown"
        }
      },
      "outputs": [],
      "source": [
        "def train_net_minibatch(params, X, y,X_val,y_val, learning_rate=0.01, epochs=100, batch_size=2):\n",
        "    loss = []\n",
        "    n_samples = X.shape[0]\n",
        "    for epoch in range(epochs):\n",
        "        # Shuffle data at the start of each epoch\n",
        "        indices = np.arange(n_samples)\n",
        "        np.random.shuffle(indices)\n",
        "        X_shuffled = X[indices]\n",
        "        y_shuffled = y[indices]\n",
        "        epoch_loss = 0\n",
        "        for start in range(0, n_samples, batch_size):\n",
        "            end = start + batch_size\n",
        "            X_batch = X_shuffled[start:end]\n",
        "            y_batch = y_shuffled[start:end]\n",
        "            grads = grad(params, X_batch, y_batch)\n",
        "            for var in params.keys():\n",
        "                params[var] -= learning_rate * grads[var]\n",
        "            batch_loss = binary_cross_entropy(params, X_batch, y_batch)\n",
        "            epoch_loss += batch_loss * X_batch.shape[0]\n",
        "        epoch_loss /= n_samples\n",
        "        loss.append(epoch_loss)\n",
        "        if epoch % (epochs // 10) == 0:\n",
        "            val_loss = binary_cross_entropy(params, X_val, y_val)\n",
        "            print(f\"Epoch {epoch},  train loss: {epoch_loss:.4f}, validation loss: {val_loss:.4f} \")\n",
        "    return params, loss\n",
        "\n",
        "\n",
        "def train_net_focal(params, X, y, learning_rate=0.01, epochs=100, batch_size=2, alpha=0.25, gamma=2.0):\n",
        "    loss = []\n",
        "    n_samples = X.shape[0]\n",
        "    for epoch in range(epochs):\n",
        "        # Shuffle data at the start of each epoch\n",
        "        indices = np.arange(n_samples)\n",
        "        np.random.shuffle(indices)\n",
        "        X_shuffled = X[indices]\n",
        "        y_shuffled = y[indices]\n",
        "        epoch_loss = 0\n",
        "        for start in range(0, n_samples, batch_size):\n",
        "            end = start + batch_size\n",
        "            X_batch = X_shuffled[start:end]\n",
        "            y_batch = y_shuffled[start:end]\n",
        "            grads = grad_focal(params, X_batch, y_batch, alpha=alpha, gamma=gamma)\n",
        "            for var in params.keys():\n",
        "                params[var] -= learning_rate * grads[var]\n",
        "            batch_loss = np.mean(focal_loss(params, X_batch, y_batch, alpha=alpha, gamma=gamma))\n",
        "            epoch_loss += batch_loss * X_batch.shape[0]\n",
        "        epoch_loss /= n_samples\n",
        "        loss.append(epoch_loss)\n",
        "        if epoch % (epochs // 10) == 0:\n",
        "            print(f\"Epoch {epoch}, focal loss: {epoch_loss:.4f}\")\n",
        "    return params, loss"
      ]
    },
    {
      "cell_type": "code",
      "execution_count": 303,
      "metadata": {
        "vscode": {
          "languageId": "markdown"
        }
      },
      "outputs": [
        {
          "name": "stdout",
          "output_type": "stream",
          "text": [
            "Epoch 0,  train loss: 0.3582, validation loss: 0.0372 \n",
            "Epoch 10,  train loss: 0.0150, validation loss: 0.0181 \n",
            "Epoch 20,  train loss: 0.0147, validation loss: 0.0182 \n",
            "Epoch 30,  train loss: 0.0149, validation loss: 0.0188 \n",
            "Epoch 40,  train loss: 0.0151, validation loss: 0.0192 \n",
            "Epoch 50,  train loss: 0.0153, validation loss: 0.0196 \n",
            "Epoch 60,  train loss: 0.0157, validation loss: 0.0199 \n",
            "Epoch 70,  train loss: 0.0159, validation loss: 0.0203 \n",
            "Epoch 80,  train loss: 0.0161, validation loss: 0.0205 \n",
            "Epoch 90,  train loss: 0.0162, validation loss: 0.0208 \n"
          ]
        }
      ],
      "source": [
        "params=init_model_params(n_in=train_features.shape[-1])\n",
        "params,loss=train_net_minibatch(params, train_features, train_labels, val_features, val_labels, learning_rate=0.01, epochs=100, batch_size=64)"
      ]
    },
    {
      "cell_type": "code",
      "execution_count": null,
      "metadata": {
        "vscode": {
          "languageId": "markdown"
        }
      },
      "outputs": [
        {
          "data": {
            "image/png": "[encoded data removed]",
            "text/plain": [
              "<Figure size 800x400 with 1 Axes>"
            ]
          },
          "metadata": {},
          "output_type": "display_data"
        }
      ],
      "source": [
        "def plot_loss(loss, title=\"Loss Curve\"):\n",
        "    import matplotlib.pyplot as plt\n",
        "    plt.figure(figsize=(8,4))\n",
        "    plt.plot(loss, label=\"Loss\")\n",
        "    plt.xlabel(\"Epoch\")\n",
        "    plt.ylabel(\"Loss\")\n",
        "    plt.title(title)\n",
        "    plt.grid(True)\n",
        "    plt.legend()\n",
        "    plt.\n",
        "    plt.show()\n",
        "\n",
        "plot_loss(loss,\"Binary Cross Entropy\")"
      ]
    },
    {
      "cell_type": "code",
      "execution_count": 307,
      "metadata": {
        "vscode": {
          "languageId": "markdown"
        }
      },
      "outputs": [],
      "source": [
        "y_hat = net(params, test_features)"
      ]
    },
    {
      "cell_type": "code",
      "execution_count": 308,
      "metadata": {
        "id": "PKULccigYZZf",
        "outputId": "764bdffc-8629-4cbc-8a75-103a814345fd"
      },
      "outputs": [
        {
          "name": "stdout",
          "output_type": "stream",
          "text": [
            "Accuracy: 1.000\n"
          ]
        }
      ],
      "source": [
        "from sklearn.metrics import accuracy_score\n",
        "\n",
        "y_hat = net(params, test_features)\n",
        "accuracy = accuracy_score(test_labels, np.int32(y_hat>0.5).reshape(-1))\n",
        "print(f\"Accuracy: {accuracy:.3f}\")"
      ]
    },
    {
      "cell_type": "markdown",
      "metadata": {
        "id": "6gTFYabNYZZf"
      },
      "source": [
        "La precisión mide la proporción de instancias positivas correctamente identificadas entre todas las instancias identificadas como positivas. Se centra en la calidad de las predicciones positivas\n",
        "\n",
        "$\\texttt{precision}(y, \\hat{y}) =\\frac{TP}{TP+FP}$.\n",
        "\n",
        "\n",
        "La recuperación mide la proporción de instancias positivas correctamente identificadas entre todas las instancias que son realmente positivas. Se centra en la capacidad del modelo para capturar todas las instancias positivas.\n",
        "\n",
        "$\\texttt{recall}(y, \\hat{y}) =\\frac{TP}{TP+FN}$.\n",
        "\n",
        "Verdaderos Positivos (TP): Instancias que fueron clasificadas correctamente como positivas por el modelo.\n",
        "Falsos Positivos (FP): Instancias que fueron clasificadas incorrectamente como positivas por el modelo (en realidad son negativas).\n",
        "Verdaderos Negativos (TN): Instancias que fueron clasificadas correctamente como negativas por el modelo.\n",
        "Falsos Negativos (FN): Instancias que fueron clasificadas incorrectamente como negativas por el modelo (en realidad son positivas).\n"
      ]
    },
    {
      "cell_type": "code",
      "execution_count": 309,
      "metadata": {
        "id": "AM02eDlKYZZf",
        "outputId": "765bc5b6-544f-436c-9d2a-7c8aa76449d5"
      },
      "outputs": [
        {
          "data": {
            "text/plain": [
              "<sklearn.metrics._plot.confusion_matrix.ConfusionMatrixDisplay at 0x7ba11c9c6c00>"
            ]
          },
          "execution_count": 309,
          "metadata": {},
          "output_type": "execute_result"
        },
        {
          "data": {
            "image/png": "[encoded data removed]",
            "text/plain": [
              "<Figure size 640x480 with 2 Axes>"
            ]
          },
          "metadata": {},
          "output_type": "display_data"
        }
      ],
      "source": [
        "from sklearn.metrics import ConfusionMatrixDisplay\n",
        "\n",
        "ConfusionMatrixDisplay.from_predictions(test_labels, np.int32(y_hat>0.5),cmap=plt.cm.Blues)"
      ]
    },
    {
      "cell_type": "code",
      "execution_count": 310,
      "metadata": {
        "id": "SNYaMYunYZZg",
        "outputId": "9dbb88b1-5544-4f6a-e914-d2e888a3b197"
      },
      "outputs": [
        {
          "name": "stdout",
          "output_type": "stream",
          "text": [
            "              precision    recall  f1-score   support\n",
            "\n",
            "           0       1.00      1.00      1.00     56848\n",
            "           1       0.94      0.82      0.88       114\n",
            "\n",
            "    accuracy                           1.00     56962\n",
            "   macro avg       0.97      0.91      0.94     56962\n",
            "weighted avg       1.00      1.00      1.00     56962\n",
            "\n"
          ]
        }
      ],
      "source": [
        "from sklearn.metrics import classification_report\n",
        "\n",
        "print(classification_report(test_labels, y_hat>0.5))"
      ]
    },
    {
      "cell_type": "code",
      "execution_count": 311,
      "metadata": {},
      "outputs": [
        {
          "name": "stdout",
          "output_type": "stream",
          "text": [
            "AUPRC (Área bajo la curva Precision-Recall): 0.9015\n"
          ]
        },
        {
          "data": {
            "image/png": "[encoded data removed]",
            "text/plain": [
              "<Figure size 600x400 with 1 Axes>"
            ]
          },
          "metadata": {},
          "output_type": "display_data"
        }
      ],
      "source": [
        "from sklearn.metrics import average_precision_score, precision_recall_curve\n",
        "import matplotlib.pyplot as plt\n",
        "\n",
        "# y_hat: probabilidades predichas por el modelo\n",
        "# test_labels: etiquetas verdaderas\n",
        "\n",
        "auprc = average_precision_score(test_labels, y_hat)\n",
        "print(f\"AUPRC (Área bajo la curva Precision-Recall): {auprc:.4f}\")\n",
        "\n",
        "precision, recall, _ = precision_recall_curve(test_labels, y_hat)\n",
        "plt.figure(figsize=(6,4))\n",
        "plt.plot(recall, precision, label=f'AUPRC = {auprc:.4f}')\n",
        "plt.xlabel('Recall')\n",
        "plt.ylabel('Precision')\n",
        "plt.title('Precision-Recall Curve')\n",
        "plt.grid(True)\n",
        "plt.legend()\n",
        "plt.show()"
      ]
    }
  ],
  "metadata": {
    "colab": {
      "name": "4.-Redes_Neuronales.ipynb",
      "provenance": []
    },
    "kernelspec": {
      "display_name": "env (3.13.3)",
      "language": "python",
      "name": "python3"
    },
    "language_info": {
      "codemirror_mode": {
        "name": "ipython",
        "version": 3
      },
      "file_extension": ".py",
      "mimetype": "text/x-python",
      "name": "python",
      "nbconvert_exporter": "python",
      "pygments_lexer": "ipython3",
      "version": "3.13.3"
    }
  },
  "nbformat": 4,
  "nbformat_minor": 0
}
